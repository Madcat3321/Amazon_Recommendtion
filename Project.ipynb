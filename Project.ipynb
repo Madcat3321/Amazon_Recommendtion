{
 "cells": [
  {
   "cell_type": "markdown",
   "id": "5aefa461",
   "metadata": {},
   "source": [
    "# Semamtic Analysis"
   ]
  },
  {
   "cell_type": "code",
   "execution_count": 6,
   "id": "d7f3cbaf",
   "metadata": {},
   "outputs": [
    {
     "name": "stderr",
     "output_type": "stream",
     "text": [
      "[nltk_data] Downloading package punkt to /Users/allinone/nltk_data...\n",
      "[nltk_data]   Package punkt is already up-to-date!\n",
      "[nltk_data] Downloading package stopwords to\n",
      "[nltk_data]     /Users/allinone/nltk_data...\n",
      "[nltk_data]   Unzipping corpora/stopwords.zip.\n",
      "[nltk_data] Downloading package wordnet to\n",
      "[nltk_data]     /Users/allinone/nltk_data...\n",
      "[nltk_data] Downloading package omw-1.4 to\n",
      "[nltk_data]     /Users/allinone/nltk_data...\n"
     ]
    },
    {
     "data": {
      "text/plain": [
       "True"
      ]
     },
     "execution_count": 6,
     "metadata": {},
     "output_type": "execute_result"
    }
   ],
   "source": [
    "import nltk\n",
    "from nltk.corpus import stopwords\n",
    "from nltk.stem import WordNetLemmatizer\n",
    "from nltk.tokenize import word_tokenize\n",
    "import traceback\n",
    "# import torch\n",
    "import re\n",
    "import random\n",
    "import pandas as pd\n",
    "# import swifter\n",
    "# from transformers import pipeline\n",
    "# from transformers import AutoTokenizer, AutoModelForSequenceClassification\n",
    "nltk.download('punkt')\n",
    "nltk.download('stopwords')\n",
    "nltk.download('wordnet')\n",
    "nltk.download('omw-1.4')"
   ]
  },
  {
   "cell_type": "markdown",
   "id": "9512bd38",
   "metadata": {},
   "source": [
    "## Data Processing"
   ]
  },
  {
   "cell_type": "markdown",
   "id": "5831430f",
   "metadata": {},
   "source": [
    "The data here was downloaded from https://cseweb.ucsd.edu/~jmcauley/datasets/amazon_v2/"
   ]
  },
  {
   "cell_type": "code",
   "execution_count": 2,
   "id": "22cf2d94",
   "metadata": {},
   "outputs": [
    {
     "name": "stdout",
     "output_type": "stream",
     "text": [
      "CPU times: total: 33 s\n",
      "Wall time: 35.8 s\n"
     ]
    }
   ],
   "source": [
    "%%time\n",
    "\n",
    "\n",
    "data = pd.read_json('Dataset\\Movies_and_TV_5.json', lines=True)"
   ]
  },
  {
   "cell_type": "code",
   "execution_count": 3,
   "id": "9e2b3082",
   "metadata": {},
   "outputs": [],
   "source": [
    "data_temp = data"
   ]
  },
  {
   "cell_type": "code",
   "execution_count": 4,
   "id": "2171b477",
   "metadata": {},
   "outputs": [],
   "source": [
    "data = data_temp"
   ]
  },
  {
   "cell_type": "markdown",
   "id": "7c499d66",
   "metadata": {},
   "source": [
    "Remove useless columns from the data and review text as empty"
   ]
  },
  {
   "cell_type": "markdown",
   "id": "fa01347c",
   "metadata": {},
   "source": [
    "Please increase the N for more accurate predication"
   ]
  },
  {
   "cell_type": "code",
   "execution_count": 5,
   "id": "ebd048af",
   "metadata": {},
   "outputs": [
    {
     "name": "stdout",
     "output_type": "stream",
     "text": [
      "<class 'pandas.core.frame.DataFrame'>\n",
      "RangeIndex: 10000 entries, 0 to 9999\n",
      "Data columns (total 4 columns):\n",
      " #   Column      Non-Null Count  Dtype \n",
      "---  ------      --------------  ----- \n",
      " 0   overall     10000 non-null  int64 \n",
      " 1   reviewerID  10000 non-null  object\n",
      " 2   asin        10000 non-null  object\n",
      " 3   reviewText  10000 non-null  object\n",
      "dtypes: int64(1), object(3)\n",
      "memory usage: 312.6+ KB\n"
     ]
    }
   ],
   "source": [
    "columns_to_drop = ['verified', 'reviewTime', 'style', 'reviewerName', 'vote', 'image', 'summary', 'unixReviewTime']\n",
    "data = data.drop(columns=columns_to_drop)\n",
    "\n",
    "data = data.dropna(subset=[\"rev iewText\"])\n",
    "data[\"reviewText\"] = data[\"reviewText\"].astype(str)\n",
    "\n",
    "data = data.sample(n=10000)\n",
    "data.reset_index(drop=True, inplace=True)\n",
    "data.info()"
   ]
  },
  {
   "cell_type": "markdown",
   "id": "996305a3",
   "metadata": {},
   "source": [
    "Perform filter out HTML tags and UTF-8 encoding symbols, tokenization, lowercasing, and lemmatization tasks on text data"
   ]
  },
  {
   "cell_type": "code",
   "execution_count": 6,
   "id": "8a9e07b5",
   "metadata": {},
   "outputs": [],
   "source": [
    "def TextProcessing(text):\n",
    "    # Remove HTML tag\n",
    "    text = re.sub('<.*?>', '', text)\n",
    "\n",
    "    # Remove special characters e.g \\n, \\xa0\n",
    "    text = re.sub(r'\\s+', ' ', text).strip()\n",
    "\n",
    "    # Text cleaning\n",
    "    text = re.sub(r\"[^a-zA-Z0-9]\", \" \", text)\n",
    "    \n",
    "    tokens = word_tokenize(text)\n",
    "    \n",
    "    # Lowercasing\n",
    "    lowercased_tokens = [token.lower() for token in tokens]\n",
    "    \n",
    "    # Stopword removal\n",
    "    stop_words = set(stopwords.words('english'))\n",
    "    filtered_tokens = [token for token in lowercased_tokens if token not in stop_words]\n",
    "\n",
    "    # Lemmatization\n",
    "    lemmatizer = WordNetLemmatizer()\n",
    "    lemmatized_tokens = [lemmatizer.lemmatize(token) for token in filtered_tokens]\n",
    "    \n",
    "    return lemmatized_tokens"
   ]
  },
  {
   "cell_type": "markdown",
   "id": "b637b492",
   "metadata": {},
   "source": [
    "Apply Text Processing on the reviews"
   ]
  },
  {
   "cell_type": "code",
   "execution_count": 7,
   "id": "bbf339d6",
   "metadata": {},
   "outputs": [
    {
     "data": {
      "application/vnd.jupyter.widget-view+json": {
       "model_id": "22b4653a6396412bb6c936481645902a",
       "version_major": 2,
       "version_minor": 0
      },
      "text/plain": [
       "Pandas Apply:   0%|          | 0/10000 [00:00<?, ?it/s]"
      ]
     },
     "metadata": {},
     "output_type": "display_data"
    },
    {
     "name": "stdout",
     "output_type": "stream",
     "text": [
      "CPU times: total: 6.52 s\n",
      "Wall time: 6.98 s\n"
     ]
    }
   ],
   "source": [
    "%%time\n",
    "data[\"reviewText\"] = data[\"reviewText\"].swifter.apply(TextProcessing)"
   ]
  },
  {
   "cell_type": "code",
   "execution_count": 8,
   "id": "62a82cd4",
   "metadata": {},
   "outputs": [
    {
     "data": {
      "application/vnd.jupyter.widget-view+json": {
       "model_id": "d7f5b280620a400c9e2ea331fa0f3213",
       "version_major": 2,
       "version_minor": 0
      },
      "text/plain": [
       "Pandas Apply:   0%|          | 0/10000 [00:00<?, ?it/s]"
      ]
     },
     "metadata": {},
     "output_type": "display_data"
    }
   ],
   "source": [
    "data = data[data['reviewText'].swifter.apply(lambda x: len(x) > 0)]"
   ]
  },
  {
   "cell_type": "code",
   "execution_count": 9,
   "id": "c6e93830",
   "metadata": {},
   "outputs": [
    {
     "data": {
      "text/html": [
       "<div>\n",
       "<style scoped>\n",
       "    .dataframe tbody tr th:only-of-type {\n",
       "        vertical-align: middle;\n",
       "    }\n",
       "\n",
       "    .dataframe tbody tr th {\n",
       "        vertical-align: top;\n",
       "    }\n",
       "\n",
       "    .dataframe thead th {\n",
       "        text-align: right;\n",
       "    }\n",
       "</style>\n",
       "<table border=\"1\" class=\"dataframe\">\n",
       "  <thead>\n",
       "    <tr style=\"text-align: right;\">\n",
       "      <th></th>\n",
       "      <th>overall</th>\n",
       "      <th>reviewerID</th>\n",
       "      <th>asin</th>\n",
       "      <th>reviewText</th>\n",
       "    </tr>\n",
       "  </thead>\n",
       "  <tbody>\n",
       "    <tr>\n",
       "      <th>0</th>\n",
       "      <td>5</td>\n",
       "      <td>A1UHWJON8XS24M</td>\n",
       "      <td>B00EF1PLV8</td>\n",
       "      <td>[great, series]</td>\n",
       "    </tr>\n",
       "    <tr>\n",
       "      <th>1</th>\n",
       "      <td>3</td>\n",
       "      <td>A3CO6TYS0K95H0</td>\n",
       "      <td>6301966554</td>\n",
       "      <td>[still, great, movie, bluray, anything, specia...</td>\n",
       "    </tr>\n",
       "    <tr>\n",
       "      <th>2</th>\n",
       "      <td>1</td>\n",
       "      <td>A7AG8Q6TH9G1A</td>\n",
       "      <td>B00005JPXY</td>\n",
       "      <td>[total, waste, time, movie, made, kindergarten...</td>\n",
       "    </tr>\n",
       "    <tr>\n",
       "      <th>3</th>\n",
       "      <td>5</td>\n",
       "      <td>AXOZ5BWOEDL76</td>\n",
       "      <td>B00TJFXH02</td>\n",
       "      <td>[magician, astonishing, life, work, orson, wel...</td>\n",
       "    </tr>\n",
       "    <tr>\n",
       "      <th>4</th>\n",
       "      <td>5</td>\n",
       "      <td>A3JETRFX9H6BMZ</td>\n",
       "      <td>B0051QS1Q8</td>\n",
       "      <td>[love, interesting]</td>\n",
       "    </tr>\n",
       "    <tr>\n",
       "      <th>...</th>\n",
       "      <td>...</td>\n",
       "      <td>...</td>\n",
       "      <td>...</td>\n",
       "      <td>...</td>\n",
       "    </tr>\n",
       "    <tr>\n",
       "      <th>9995</th>\n",
       "      <td>4</td>\n",
       "      <td>A26KD34XGDBG69</td>\n",
       "      <td>B00DY64A3U</td>\n",
       "      <td>[si, fi, much, tip, good, one, could, written,...</td>\n",
       "    </tr>\n",
       "    <tr>\n",
       "      <th>9996</th>\n",
       "      <td>5</td>\n",
       "      <td>ARQJ701ILWQO0</td>\n",
       "      <td>B00RI4VBUO</td>\n",
       "      <td>[unbelievable]</td>\n",
       "    </tr>\n",
       "    <tr>\n",
       "      <th>9997</th>\n",
       "      <td>5</td>\n",
       "      <td>A19K46GITRI5Y2</td>\n",
       "      <td>B00008DDVU</td>\n",
       "      <td>[documentary, michael, moore, explores, source...</td>\n",
       "    </tr>\n",
       "    <tr>\n",
       "      <th>9998</th>\n",
       "      <td>5</td>\n",
       "      <td>A2R2UQREX1QUH8</td>\n",
       "      <td>B00WEPI5WY</td>\n",
       "      <td>[best, movie, church, history, early, persecut...</td>\n",
       "    </tr>\n",
       "    <tr>\n",
       "      <th>9999</th>\n",
       "      <td>4</td>\n",
       "      <td>AU0172132DKBT</td>\n",
       "      <td>B004LWZW7Y</td>\n",
       "      <td>[funny, fast, moving, story, good, stuff, kid,...</td>\n",
       "    </tr>\n",
       "  </tbody>\n",
       "</table>\n",
       "<p>9976 rows × 4 columns</p>\n",
       "</div>"
      ],
      "text/plain": [
       "      overall      reviewerID        asin  \\\n",
       "0           5  A1UHWJON8XS24M  B00EF1PLV8   \n",
       "1           3  A3CO6TYS0K95H0  6301966554   \n",
       "2           1   A7AG8Q6TH9G1A  B00005JPXY   \n",
       "3           5   AXOZ5BWOEDL76  B00TJFXH02   \n",
       "4           5  A3JETRFX9H6BMZ  B0051QS1Q8   \n",
       "...       ...             ...         ...   \n",
       "9995        4  A26KD34XGDBG69  B00DY64A3U   \n",
       "9996        5   ARQJ701ILWQO0  B00RI4VBUO   \n",
       "9997        5  A19K46GITRI5Y2  B00008DDVU   \n",
       "9998        5  A2R2UQREX1QUH8  B00WEPI5WY   \n",
       "9999        4   AU0172132DKBT  B004LWZW7Y   \n",
       "\n",
       "                                             reviewText  \n",
       "0                                       [great, series]  \n",
       "1     [still, great, movie, bluray, anything, specia...  \n",
       "2     [total, waste, time, movie, made, kindergarten...  \n",
       "3     [magician, astonishing, life, work, orson, wel...  \n",
       "4                                   [love, interesting]  \n",
       "...                                                 ...  \n",
       "9995  [si, fi, much, tip, good, one, could, written,...  \n",
       "9996                                     [unbelievable]  \n",
       "9997  [documentary, michael, moore, explores, source...  \n",
       "9998  [best, movie, church, history, early, persecut...  \n",
       "9999  [funny, fast, moving, story, good, stuff, kid,...  \n",
       "\n",
       "[9976 rows x 4 columns]"
      ]
     },
     "execution_count": 9,
     "metadata": {},
     "output_type": "execute_result"
    }
   ],
   "source": [
    "data"
   ]
  },
  {
   "cell_type": "markdown",
   "id": "e06ecb2c",
   "metadata": {},
   "source": [
    "## Sentiment analysis -- Model deployment "
   ]
  },
  {
   "cell_type": "markdown",
   "id": "7e2a70cd",
   "metadata": {},
   "source": [
    "Check CUDA avaliable on computer"
   ]
  },
  {
   "cell_type": "code",
   "execution_count": 10,
   "id": "b0626890",
   "metadata": {},
   "outputs": [],
   "source": [
    "device = torch.device('cuda:0' if torch.cuda.is_available() else 'cpu')"
   ]
  },
  {
   "cell_type": "markdown",
   "id": "59656301",
   "metadata": {},
   "source": [
    "Executing the First semantic analysis model"
   ]
  },
  {
   "cell_type": "code",
   "execution_count": 14,
   "id": "9ad51602",
   "metadata": {},
   "outputs": [],
   "source": [
    "pipe = pipeline(\"text-classification\", model=\"LiYuan/amazon-review-sentiment-analysis\", device = device)"
   ]
  },
  {
   "cell_type": "code",
   "execution_count": 15,
   "id": "384d2d05",
   "metadata": {},
   "outputs": [],
   "source": [
    "def amazonreviewsentimentanalysis(text):\n",
    "    text = \"\".join(text)\n",
    "    # Example usage\n",
    "    result = pipe(text)\n",
    "    label = int(result[0]['label'].split()[0])\n",
    "    score = label * result[0]['score']\n",
    "    return score"
   ]
  },
  {
   "cell_type": "code",
   "execution_count": 16,
   "id": "0d8d6dc9",
   "metadata": {},
   "outputs": [
    {
     "name": "stderr",
     "output_type": "stream",
     "text": [
      "C:\\Users\\hinlu\\anaconda3\\lib\\site-packages\\transformers\\pipelines\\base.py:1043: UserWarning: You seem to be using the pipelines sequentially on GPU. In order to maximize efficiency please use a dataset\n",
      "  warnings.warn(\n"
     ]
    },
    {
     "name": "stdout",
     "output_type": "stream",
     "text": [
      "CPU times: total: 1min 20s\n",
      "Wall time: 1min 33s\n"
     ]
    }
   ],
   "source": [
    "%%time\n",
    "data[\"Model A result\"] = data[\"reviewText\"].apply(amazonreviewsentimentanalysis)"
   ]
  },
  {
   "cell_type": "markdown",
   "id": "e4b4a00d",
   "metadata": {},
   "source": [
    "Executing the Second semantic analysis model"
   ]
  },
  {
   "cell_type": "code",
   "execution_count": 25,
   "id": "0b761188",
   "metadata": {},
   "outputs": [],
   "source": [
    "pipe = pipeline(\"text-classification\", model=\"mmcquade11/reviews-sentiment-analysis\", device=device)"
   ]
  },
  {
   "cell_type": "code",
   "execution_count": 28,
   "id": "042fbc7f",
   "metadata": {},
   "outputs": [],
   "source": [
    "def mmcquade11(text):\n",
    "    text = \"\".join(text)\n",
    "#     # Example usage\n",
    "    result = pipe(text)\n",
    "    label = result[0]['label']\n",
    "    score = result[0]['score']\n",
    "\n",
    "    if label == 'LABEL_1':\n",
    "        score = 5*score  # Divide the score by 5\n",
    "    elif label == 'LABEL_0':\n",
    "        score = 1/score  # Divide the score by 1\n",
    "    return(score)"
   ]
  },
  {
   "cell_type": "code",
   "execution_count": 29,
   "id": "4cf05dcc",
   "metadata": {},
   "outputs": [
    {
     "name": "stdout",
     "output_type": "stream",
     "text": [
      "CPU times: total: 47.2 s\n",
      "Wall time: 51.7 s\n"
     ]
    }
   ],
   "source": [
    "%%time\n",
    "data['model B result'] = data['reviewText'].apply(mmcquade11)"
   ]
  },
  {
   "cell_type": "markdown",
   "id": "c20279d2",
   "metadata": {},
   "source": [
    "Executing the Third semantic analysis model"
   ]
  },
  {
   "cell_type": "code",
   "execution_count": 43,
   "id": "45fe27cb",
   "metadata": {},
   "outputs": [],
   "source": [
    "pipe = pipeline(\"text-classification\", model=\"nlptown/bert-base-multilingual-uncased-sentiment\")"
   ]
  },
  {
   "cell_type": "code",
   "execution_count": 44,
   "id": "aa4e1e40",
   "metadata": {},
   "outputs": [],
   "source": [
    "def bertsentimentaluncased(text):\n",
    "    text = \"\".join(text)\n",
    "    # Example usage\n",
    "    result = pipe(text)\n",
    "    label = int(result[0]['label'].split()[0])\n",
    "    score = label * result[0]['score']\n",
    "    return(score)"
   ]
  },
  {
   "cell_type": "code",
   "execution_count": 45,
   "id": "4e9b33bf",
   "metadata": {},
   "outputs": [
    {
     "name": "stdout",
     "output_type": "stream",
     "text": [
      "CPU times: total: 17min 52s\n",
      "Wall time: 5min 15s\n"
     ]
    }
   ],
   "source": [
    "%%time\n",
    "data['model C result'] = data['reviewText'].apply(bertsentimentaluncased)"
   ]
  },
  {
   "cell_type": "code",
   "execution_count": null,
   "id": "225ec549",
   "metadata": {},
   "outputs": [],
   "source": [
    "data.to_json('smalltest.json', orient='records', lines=True)"
   ]
  },
  {
   "cell_type": "code",
   "execution_count": 46,
   "id": "fad7d21b",
   "metadata": {},
   "outputs": [
    {
     "data": {
      "text/html": [
       "<div>\n",
       "<style scoped>\n",
       "    .dataframe tbody tr th:only-of-type {\n",
       "        vertical-align: middle;\n",
       "    }\n",
       "\n",
       "    .dataframe tbody tr th {\n",
       "        vertical-align: top;\n",
       "    }\n",
       "\n",
       "    .dataframe thead th {\n",
       "        text-align: right;\n",
       "    }\n",
       "</style>\n",
       "<table border=\"1\" class=\"dataframe\">\n",
       "  <thead>\n",
       "    <tr style=\"text-align: right;\">\n",
       "      <th></th>\n",
       "      <th>overall</th>\n",
       "      <th>reviewerID</th>\n",
       "      <th>asin</th>\n",
       "      <th>reviewText</th>\n",
       "      <th>Model A result</th>\n",
       "      <th>model C result</th>\n",
       "      <th>model B result</th>\n",
       "    </tr>\n",
       "  </thead>\n",
       "  <tbody>\n",
       "    <tr>\n",
       "      <th>0</th>\n",
       "      <td>5</td>\n",
       "      <td>A1UHWJON8XS24M</td>\n",
       "      <td>B00EF1PLV8</td>\n",
       "      <td>[great, series]</td>\n",
       "      <td>4.507430</td>\n",
       "      <td>3.638424</td>\n",
       "      <td>3.280221</td>\n",
       "    </tr>\n",
       "    <tr>\n",
       "      <th>1</th>\n",
       "      <td>3</td>\n",
       "      <td>A3CO6TYS0K95H0</td>\n",
       "      <td>6301966554</td>\n",
       "      <td>[still, great, movie, bluray, anything, specia...</td>\n",
       "      <td>2.226870</td>\n",
       "      <td>0.435671</td>\n",
       "      <td>1.758164</td>\n",
       "    </tr>\n",
       "    <tr>\n",
       "      <th>2</th>\n",
       "      <td>1</td>\n",
       "      <td>A7AG8Q6TH9G1A</td>\n",
       "      <td>B00005JPXY</td>\n",
       "      <td>[total, waste, time, movie, made, kindergarten...</td>\n",
       "      <td>3.706697</td>\n",
       "      <td>0.373875</td>\n",
       "      <td>1.749381</td>\n",
       "    </tr>\n",
       "    <tr>\n",
       "      <th>3</th>\n",
       "      <td>5</td>\n",
       "      <td>AXOZ5BWOEDL76</td>\n",
       "      <td>B00TJFXH02</td>\n",
       "      <td>[magician, astonishing, life, work, orson, wel...</td>\n",
       "      <td>3.079194</td>\n",
       "      <td>1.542889</td>\n",
       "      <td>1.283880</td>\n",
       "    </tr>\n",
       "    <tr>\n",
       "      <th>4</th>\n",
       "      <td>5</td>\n",
       "      <td>A3JETRFX9H6BMZ</td>\n",
       "      <td>B0051QS1Q8</td>\n",
       "      <td>[love, interesting]</td>\n",
       "      <td>3.846311</td>\n",
       "      <td>1.683720</td>\n",
       "      <td>3.478058</td>\n",
       "    </tr>\n",
       "    <tr>\n",
       "      <th>...</th>\n",
       "      <td>...</td>\n",
       "      <td>...</td>\n",
       "      <td>...</td>\n",
       "      <td>...</td>\n",
       "      <td>...</td>\n",
       "      <td>...</td>\n",
       "      <td>...</td>\n",
       "    </tr>\n",
       "    <tr>\n",
       "      <th>9995</th>\n",
       "      <td>4</td>\n",
       "      <td>A26KD34XGDBG69</td>\n",
       "      <td>B00DY64A3U</td>\n",
       "      <td>[si, fi, much, tip, good, one, could, written,...</td>\n",
       "      <td>2.734165</td>\n",
       "      <td>0.265582</td>\n",
       "      <td>1.655769</td>\n",
       "    </tr>\n",
       "    <tr>\n",
       "      <th>9996</th>\n",
       "      <td>5</td>\n",
       "      <td>ARQJ701ILWQO0</td>\n",
       "      <td>B00RI4VBUO</td>\n",
       "      <td>[unbelievable]</td>\n",
       "      <td>2.844120</td>\n",
       "      <td>2.267118</td>\n",
       "      <td>1.007441</td>\n",
       "    </tr>\n",
       "    <tr>\n",
       "      <th>9997</th>\n",
       "      <td>5</td>\n",
       "      <td>A19K46GITRI5Y2</td>\n",
       "      <td>B00008DDVU</td>\n",
       "      <td>[documentary, michael, moore, explores, source...</td>\n",
       "      <td>3.079194</td>\n",
       "      <td>1.542889</td>\n",
       "      <td>1.283880</td>\n",
       "    </tr>\n",
       "    <tr>\n",
       "      <th>9998</th>\n",
       "      <td>5</td>\n",
       "      <td>A2R2UQREX1QUH8</td>\n",
       "      <td>B00WEPI5WY</td>\n",
       "      <td>[best, movie, church, history, early, persecut...</td>\n",
       "      <td>4.561518</td>\n",
       "      <td>2.220508</td>\n",
       "      <td>3.385945</td>\n",
       "    </tr>\n",
       "    <tr>\n",
       "      <th>9999</th>\n",
       "      <td>4</td>\n",
       "      <td>AU0172132DKBT</td>\n",
       "      <td>B004LWZW7Y</td>\n",
       "      <td>[funny, fast, moving, story, good, stuff, kid,...</td>\n",
       "      <td>3.292339</td>\n",
       "      <td>1.664481</td>\n",
       "      <td>3.376432</td>\n",
       "    </tr>\n",
       "  </tbody>\n",
       "</table>\n",
       "<p>9976 rows × 7 columns</p>\n",
       "</div>"
      ],
      "text/plain": [
       "      overall      reviewerID        asin  \\\n",
       "0           5  A1UHWJON8XS24M  B00EF1PLV8   \n",
       "1           3  A3CO6TYS0K95H0  6301966554   \n",
       "2           1   A7AG8Q6TH9G1A  B00005JPXY   \n",
       "3           5   AXOZ5BWOEDL76  B00TJFXH02   \n",
       "4           5  A3JETRFX9H6BMZ  B0051QS1Q8   \n",
       "...       ...             ...         ...   \n",
       "9995        4  A26KD34XGDBG69  B00DY64A3U   \n",
       "9996        5   ARQJ701ILWQO0  B00RI4VBUO   \n",
       "9997        5  A19K46GITRI5Y2  B00008DDVU   \n",
       "9998        5  A2R2UQREX1QUH8  B00WEPI5WY   \n",
       "9999        4   AU0172132DKBT  B004LWZW7Y   \n",
       "\n",
       "                                             reviewText  Model A result  \\\n",
       "0                                       [great, series]        4.507430   \n",
       "1     [still, great, movie, bluray, anything, specia...        2.226870   \n",
       "2     [total, waste, time, movie, made, kindergarten...        3.706697   \n",
       "3     [magician, astonishing, life, work, orson, wel...        3.079194   \n",
       "4                                   [love, interesting]        3.846311   \n",
       "...                                                 ...             ...   \n",
       "9995  [si, fi, much, tip, good, one, could, written,...        2.734165   \n",
       "9996                                     [unbelievable]        2.844120   \n",
       "9997  [documentary, michael, moore, explores, source...        3.079194   \n",
       "9998  [best, movie, church, history, early, persecut...        4.561518   \n",
       "9999  [funny, fast, moving, story, good, stuff, kid,...        3.292339   \n",
       "\n",
       "      model C result  model B result  \n",
       "0           3.638424        3.280221  \n",
       "1           0.435671        1.758164  \n",
       "2           0.373875        1.749381  \n",
       "3           1.542889        1.283880  \n",
       "4           1.683720        3.478058  \n",
       "...              ...             ...  \n",
       "9995        0.265582        1.655769  \n",
       "9996        2.267118        1.007441  \n",
       "9997        1.542889        1.283880  \n",
       "9998        2.220508        3.385945  \n",
       "9999        1.664481        3.376432  \n",
       "\n",
       "[9976 rows x 7 columns]"
      ]
     },
     "execution_count": 46,
     "metadata": {},
     "output_type": "execute_result"
    }
   ],
   "source": [
    "data"
   ]
  },
  {
   "cell_type": "markdown",
   "id": "8dc1a15c",
   "metadata": {},
   "source": [
    "Storing data for ALS models, can be ingored"
   ]
  },
  {
   "cell_type": "code",
   "execution_count": 62,
   "id": "5eb8649e",
   "metadata": {},
   "outputs": [],
   "source": [
    "data.to_json('smalltest.json', orient='records', lines=True)"
   ]
  },
  {
   "cell_type": "markdown",
   "id": "efbf9bbd",
   "metadata": {},
   "source": [
    "Calculate the average"
   ]
  },
  {
   "cell_type": "code",
   "execution_count": null,
   "id": "eeb644a2",
   "metadata": {},
   "outputs": [],
   "source": [
    "# Calculate the average and update the \"overall\" column\n",
    "data['score'] = (data['overall'] + data['Model A result'] + data['model B result'] + data['model C result']) / 4"
   ]
  },
  {
   "cell_type": "code",
   "execution_count": 49,
   "id": "cc350415",
   "metadata": {},
   "outputs": [
    {
     "data": {
      "text/html": [
       "<div>\n",
       "<style scoped>\n",
       "    .dataframe tbody tr th:only-of-type {\n",
       "        vertical-align: middle;\n",
       "    }\n",
       "\n",
       "    .dataframe tbody tr th {\n",
       "        vertical-align: top;\n",
       "    }\n",
       "\n",
       "    .dataframe thead th {\n",
       "        text-align: right;\n",
       "    }\n",
       "</style>\n",
       "<table border=\"1\" class=\"dataframe\">\n",
       "  <thead>\n",
       "    <tr style=\"text-align: right;\">\n",
       "      <th></th>\n",
       "      <th>overall</th>\n",
       "      <th>reviewerID</th>\n",
       "      <th>asin</th>\n",
       "      <th>reviewText</th>\n",
       "      <th>Model A result</th>\n",
       "      <th>model C result</th>\n",
       "      <th>model B result</th>\n",
       "      <th>score</th>\n",
       "    </tr>\n",
       "  </thead>\n",
       "  <tbody>\n",
       "    <tr>\n",
       "      <th>0</th>\n",
       "      <td>5</td>\n",
       "      <td>A1UHWJON8XS24M</td>\n",
       "      <td>B00EF1PLV8</td>\n",
       "      <td>[great, series]</td>\n",
       "      <td>4.507430</td>\n",
       "      <td>3.638424</td>\n",
       "      <td>3.280221</td>\n",
       "      <td>4.106519</td>\n",
       "    </tr>\n",
       "    <tr>\n",
       "      <th>1</th>\n",
       "      <td>3</td>\n",
       "      <td>A3CO6TYS0K95H0</td>\n",
       "      <td>6301966554</td>\n",
       "      <td>[still, great, movie, bluray, anything, specia...</td>\n",
       "      <td>2.226870</td>\n",
       "      <td>0.435671</td>\n",
       "      <td>1.758164</td>\n",
       "      <td>1.855176</td>\n",
       "    </tr>\n",
       "    <tr>\n",
       "      <th>2</th>\n",
       "      <td>1</td>\n",
       "      <td>A7AG8Q6TH9G1A</td>\n",
       "      <td>B00005JPXY</td>\n",
       "      <td>[total, waste, time, movie, made, kindergarten...</td>\n",
       "      <td>3.706697</td>\n",
       "      <td>0.373875</td>\n",
       "      <td>1.749381</td>\n",
       "      <td>1.707488</td>\n",
       "    </tr>\n",
       "    <tr>\n",
       "      <th>3</th>\n",
       "      <td>5</td>\n",
       "      <td>AXOZ5BWOEDL76</td>\n",
       "      <td>B00TJFXH02</td>\n",
       "      <td>[magician, astonishing, life, work, orson, wel...</td>\n",
       "      <td>3.079194</td>\n",
       "      <td>1.542889</td>\n",
       "      <td>1.283880</td>\n",
       "      <td>2.726491</td>\n",
       "    </tr>\n",
       "    <tr>\n",
       "      <th>4</th>\n",
       "      <td>5</td>\n",
       "      <td>A3JETRFX9H6BMZ</td>\n",
       "      <td>B0051QS1Q8</td>\n",
       "      <td>[love, interesting]</td>\n",
       "      <td>3.846311</td>\n",
       "      <td>1.683720</td>\n",
       "      <td>3.478058</td>\n",
       "      <td>3.502022</td>\n",
       "    </tr>\n",
       "    <tr>\n",
       "      <th>...</th>\n",
       "      <td>...</td>\n",
       "      <td>...</td>\n",
       "      <td>...</td>\n",
       "      <td>...</td>\n",
       "      <td>...</td>\n",
       "      <td>...</td>\n",
       "      <td>...</td>\n",
       "      <td>...</td>\n",
       "    </tr>\n",
       "    <tr>\n",
       "      <th>9995</th>\n",
       "      <td>4</td>\n",
       "      <td>A26KD34XGDBG69</td>\n",
       "      <td>B00DY64A3U</td>\n",
       "      <td>[si, fi, much, tip, good, one, could, written,...</td>\n",
       "      <td>2.734165</td>\n",
       "      <td>0.265582</td>\n",
       "      <td>1.655769</td>\n",
       "      <td>2.163879</td>\n",
       "    </tr>\n",
       "    <tr>\n",
       "      <th>9996</th>\n",
       "      <td>5</td>\n",
       "      <td>ARQJ701ILWQO0</td>\n",
       "      <td>B00RI4VBUO</td>\n",
       "      <td>[unbelievable]</td>\n",
       "      <td>2.844120</td>\n",
       "      <td>2.267118</td>\n",
       "      <td>1.007441</td>\n",
       "      <td>2.779670</td>\n",
       "    </tr>\n",
       "    <tr>\n",
       "      <th>9997</th>\n",
       "      <td>5</td>\n",
       "      <td>A19K46GITRI5Y2</td>\n",
       "      <td>B00008DDVU</td>\n",
       "      <td>[documentary, michael, moore, explores, source...</td>\n",
       "      <td>3.079194</td>\n",
       "      <td>1.542889</td>\n",
       "      <td>1.283880</td>\n",
       "      <td>2.726491</td>\n",
       "    </tr>\n",
       "    <tr>\n",
       "      <th>9998</th>\n",
       "      <td>5</td>\n",
       "      <td>A2R2UQREX1QUH8</td>\n",
       "      <td>B00WEPI5WY</td>\n",
       "      <td>[best, movie, church, history, early, persecut...</td>\n",
       "      <td>4.561518</td>\n",
       "      <td>2.220508</td>\n",
       "      <td>3.385945</td>\n",
       "      <td>3.791993</td>\n",
       "    </tr>\n",
       "    <tr>\n",
       "      <th>9999</th>\n",
       "      <td>4</td>\n",
       "      <td>AU0172132DKBT</td>\n",
       "      <td>B004LWZW7Y</td>\n",
       "      <td>[funny, fast, moving, story, good, stuff, kid,...</td>\n",
       "      <td>3.292339</td>\n",
       "      <td>1.664481</td>\n",
       "      <td>3.376432</td>\n",
       "      <td>3.083313</td>\n",
       "    </tr>\n",
       "  </tbody>\n",
       "</table>\n",
       "<p>9976 rows × 8 columns</p>\n",
       "</div>"
      ],
      "text/plain": [
       "      overall      reviewerID        asin  \\\n",
       "0           5  A1UHWJON8XS24M  B00EF1PLV8   \n",
       "1           3  A3CO6TYS0K95H0  6301966554   \n",
       "2           1   A7AG8Q6TH9G1A  B00005JPXY   \n",
       "3           5   AXOZ5BWOEDL76  B00TJFXH02   \n",
       "4           5  A3JETRFX9H6BMZ  B0051QS1Q8   \n",
       "...       ...             ...         ...   \n",
       "9995        4  A26KD34XGDBG69  B00DY64A3U   \n",
       "9996        5   ARQJ701ILWQO0  B00RI4VBUO   \n",
       "9997        5  A19K46GITRI5Y2  B00008DDVU   \n",
       "9998        5  A2R2UQREX1QUH8  B00WEPI5WY   \n",
       "9999        4   AU0172132DKBT  B004LWZW7Y   \n",
       "\n",
       "                                             reviewText  Model A result  \\\n",
       "0                                       [great, series]        4.507430   \n",
       "1     [still, great, movie, bluray, anything, specia...        2.226870   \n",
       "2     [total, waste, time, movie, made, kindergarten...        3.706697   \n",
       "3     [magician, astonishing, life, work, orson, wel...        3.079194   \n",
       "4                                   [love, interesting]        3.846311   \n",
       "...                                                 ...             ...   \n",
       "9995  [si, fi, much, tip, good, one, could, written,...        2.734165   \n",
       "9996                                     [unbelievable]        2.844120   \n",
       "9997  [documentary, michael, moore, explores, source...        3.079194   \n",
       "9998  [best, movie, church, history, early, persecut...        4.561518   \n",
       "9999  [funny, fast, moving, story, good, stuff, kid,...        3.292339   \n",
       "\n",
       "      model C result  model B result     score  \n",
       "0           3.638424        3.280221  4.106519  \n",
       "1           0.435671        1.758164  1.855176  \n",
       "2           0.373875        1.749381  1.707488  \n",
       "3           1.542889        1.283880  2.726491  \n",
       "4           1.683720        3.478058  3.502022  \n",
       "...              ...             ...       ...  \n",
       "9995        0.265582        1.655769  2.163879  \n",
       "9996        2.267118        1.007441  2.779670  \n",
       "9997        1.542889        1.283880  2.726491  \n",
       "9998        2.220508        3.385945  3.791993  \n",
       "9999        1.664481        3.376432  3.083313  \n",
       "\n",
       "[9976 rows x 8 columns]"
      ]
     },
     "execution_count": 49,
     "metadata": {},
     "output_type": "execute_result"
    }
   ],
   "source": [
    "data"
   ]
  },
  {
   "cell_type": "markdown",
   "id": "1d10c41b",
   "metadata": {},
   "source": [
    "Keep only the columns needed to execute the ALS algorithm"
   ]
  },
  {
   "cell_type": "code",
   "execution_count": null,
   "id": "8dbbfc27",
   "metadata": {},
   "outputs": [],
   "source": [
    "data = data.drop(columns=[\"reviewText\", \"Model A result\", \"model B result\", \"model C result\", \"overall\"])"
   ]
  },
  {
   "cell_type": "code",
   "execution_count": 51,
   "id": "c61d0c6a",
   "metadata": {},
   "outputs": [
    {
     "data": {
      "text/html": [
       "<div>\n",
       "<style scoped>\n",
       "    .dataframe tbody tr th:only-of-type {\n",
       "        vertical-align: middle;\n",
       "    }\n",
       "\n",
       "    .dataframe tbody tr th {\n",
       "        vertical-align: top;\n",
       "    }\n",
       "\n",
       "    .dataframe thead th {\n",
       "        text-align: right;\n",
       "    }\n",
       "</style>\n",
       "<table border=\"1\" class=\"dataframe\">\n",
       "  <thead>\n",
       "    <tr style=\"text-align: right;\">\n",
       "      <th></th>\n",
       "      <th>reviewerID</th>\n",
       "      <th>asin</th>\n",
       "      <th>score</th>\n",
       "    </tr>\n",
       "  </thead>\n",
       "  <tbody>\n",
       "    <tr>\n",
       "      <th>0</th>\n",
       "      <td>A1UHWJON8XS24M</td>\n",
       "      <td>B00EF1PLV8</td>\n",
       "      <td>4.106519</td>\n",
       "    </tr>\n",
       "    <tr>\n",
       "      <th>1</th>\n",
       "      <td>A3CO6TYS0K95H0</td>\n",
       "      <td>6301966554</td>\n",
       "      <td>1.855176</td>\n",
       "    </tr>\n",
       "    <tr>\n",
       "      <th>2</th>\n",
       "      <td>A7AG8Q6TH9G1A</td>\n",
       "      <td>B00005JPXY</td>\n",
       "      <td>1.707488</td>\n",
       "    </tr>\n",
       "    <tr>\n",
       "      <th>3</th>\n",
       "      <td>AXOZ5BWOEDL76</td>\n",
       "      <td>B00TJFXH02</td>\n",
       "      <td>2.726491</td>\n",
       "    </tr>\n",
       "    <tr>\n",
       "      <th>4</th>\n",
       "      <td>A3JETRFX9H6BMZ</td>\n",
       "      <td>B0051QS1Q8</td>\n",
       "      <td>3.502022</td>\n",
       "    </tr>\n",
       "    <tr>\n",
       "      <th>...</th>\n",
       "      <td>...</td>\n",
       "      <td>...</td>\n",
       "      <td>...</td>\n",
       "    </tr>\n",
       "    <tr>\n",
       "      <th>9995</th>\n",
       "      <td>A26KD34XGDBG69</td>\n",
       "      <td>B00DY64A3U</td>\n",
       "      <td>2.163879</td>\n",
       "    </tr>\n",
       "    <tr>\n",
       "      <th>9996</th>\n",
       "      <td>ARQJ701ILWQO0</td>\n",
       "      <td>B00RI4VBUO</td>\n",
       "      <td>2.779670</td>\n",
       "    </tr>\n",
       "    <tr>\n",
       "      <th>9997</th>\n",
       "      <td>A19K46GITRI5Y2</td>\n",
       "      <td>B00008DDVU</td>\n",
       "      <td>2.726491</td>\n",
       "    </tr>\n",
       "    <tr>\n",
       "      <th>9998</th>\n",
       "      <td>A2R2UQREX1QUH8</td>\n",
       "      <td>B00WEPI5WY</td>\n",
       "      <td>3.791993</td>\n",
       "    </tr>\n",
       "    <tr>\n",
       "      <th>9999</th>\n",
       "      <td>AU0172132DKBT</td>\n",
       "      <td>B004LWZW7Y</td>\n",
       "      <td>3.083313</td>\n",
       "    </tr>\n",
       "  </tbody>\n",
       "</table>\n",
       "<p>9976 rows × 3 columns</p>\n",
       "</div>"
      ],
      "text/plain": [
       "          reviewerID        asin     score\n",
       "0     A1UHWJON8XS24M  B00EF1PLV8  4.106519\n",
       "1     A3CO6TYS0K95H0  6301966554  1.855176\n",
       "2      A7AG8Q6TH9G1A  B00005JPXY  1.707488\n",
       "3      AXOZ5BWOEDL76  B00TJFXH02  2.726491\n",
       "4     A3JETRFX9H6BMZ  B0051QS1Q8  3.502022\n",
       "...              ...         ...       ...\n",
       "9995  A26KD34XGDBG69  B00DY64A3U  2.163879\n",
       "9996   ARQJ701ILWQO0  B00RI4VBUO  2.779670\n",
       "9997  A19K46GITRI5Y2  B00008DDVU  2.726491\n",
       "9998  A2R2UQREX1QUH8  B00WEPI5WY  3.791993\n",
       "9999   AU0172132DKBT  B004LWZW7Y  3.083313\n",
       "\n",
       "[9976 rows x 3 columns]"
      ]
     },
     "execution_count": 51,
     "metadata": {},
     "output_type": "execute_result"
    }
   ],
   "source": [
    "data"
   ]
  },
  {
   "cell_type": "code",
   "execution_count": 52,
   "id": "5aa6b96e",
   "metadata": {},
   "outputs": [
    {
     "data": {
      "text/plain": [
       "1030"
      ]
     },
     "execution_count": 52,
     "metadata": {},
     "output_type": "execute_result"
    }
   ],
   "source": [
    "duplicated_reviewerIDs = data.duplicated(subset='reviewerID', keep=False)\n",
    "duplicated_reviewerIDs.sum()"
   ]
  },
  {
   "cell_type": "markdown",
   "id": "5480eb0f",
   "metadata": {},
   "source": [
    "## Recommendation System"
   ]
  },
  {
   "cell_type": "code",
   "execution_count": 53,
   "id": "64b93d15",
   "metadata": {},
   "outputs": [],
   "source": [
    "import findspark\n",
    "findspark.init()"
   ]
  },
  {
   "cell_type": "code",
   "execution_count": null,
   "id": "e16cd57a",
   "metadata": {},
   "outputs": [],
   "source": [
    "from pyspark.sql import SparkSession\n",
    "from pyspark.ml.feature import StringIndexer\n",
    "from pyspark.ml.evaluation import RegressionEvaluator\n",
    "from pyspark.ml.recommendation import ALS\n",
    "\n",
    "# Create a SparkSession\n",
    "spark = SparkSession.builder.getOrCreate()\n",
    "\n",
    "# Convert the Pandas DataFrame to PySpark DataFrame\n",
    "df = spark.createDataFrame(data)\n",
    "\n",
    "# Create StringIndexer transformers for reviewerID and asin columns\n",
    "reviewerIDIndexer = StringIndexer(inputCol=\"reviewerID\", outputCol=\"indexedReviewerID\")\n",
    "asinIndexer = StringIndexer(inputCol=\"asin\", outputCol=\"indexedAsin\")\n",
    "\n",
    "# Fit StringIndexer on the DataFrame\n",
    "indexerModel = reviewerIDIndexer.fit(df)\n",
    "indexedDF = indexerModel.transform(df)\n",
    "indexerModel = asinIndexer.fit(indexedDF)\n",
    "indexedDF = indexerModel.transform(indexedDF)\n",
    "\n",
    "indexedDF.show()"
   ]
  },
  {
   "cell_type": "code",
   "execution_count": 55,
   "id": "0dfd77d0",
   "metadata": {},
   "outputs": [
    {
     "name": "stdout",
     "output_type": "stream",
     "text": [
      "+--------------+----------+------------------+-----------------+-----------+\n",
      "|    reviewerID|      asin|             score|indexedReviewerID|indexedAsin|\n",
      "+--------------+----------+------------------+-----------------+-----------+\n",
      "|A101IGU6UDKW3X|6304406096| 2.726490834468174|            102.0|      412.0|\n",
      "|A101L4HF0IZ33C|B00J9BZOXY|  2.46021622698448|            425.0|       96.0|\n",
      "|A106YXO3EHVD3J|B002VECMB8| 2.726490834468174|            430.0|     4670.0|\n",
      "|A10AVEAVBRW2LJ|B0009UZG2I| 2.726490834468174|            441.0|     3421.0|\n",
      "| A10FPLE9JMYQG|B000GTJSO4|  4.44016695022583|            454.0|     3679.0|\n",
      "|A10S6IJ9TV5BAU|B00144H00Y| 2.726490834468174|            477.0|     4163.0|\n",
      "|A11BAS3GNT4A4M|B00S1ITA2W| 2.741661451756954|            503.0|       14.0|\n",
      "|A11E9ON7T6LQO7|B000HEVTOU| 2.476490834468174|            514.0|     3696.0|\n",
      "|A11EA10WV5RXR1|B000ZECQ08| 2.415416736202503|            516.0|      165.0|\n",
      "|A11FOOTPCPZJHC|B000XA5K4I| 2.863236114382744|            520.0|      514.0|\n",
      "|A11HWSN9XT3229|B00005JPY0|2.7894110456109047|            525.0|      248.0|\n",
      "|A11V1XYS2XWNZQ|B0116FT65W| 2.726490834468174|            545.0|     6351.0|\n",
      "|A11XREQLBXVMJ5|B003ZXNCHW|1.8470066546197679|            551.0|     4828.0|\n",
      "|A11ZSTTSTJ8RQV|B00OMCLZLU|1.7801917857796075|            555.0|     6137.0|\n",
      "|A12BNOVR75442A|B0009VBTOG| 2.257498602722381|            570.0|     3422.0|\n",
      "|A12O67514SZ69U|B000CEXF4W| 4.131142422556877|            585.0|     3533.0|\n",
      "|A12R3TKJ1U79G3|B00H9LHVHI|3.2588672533234426|            592.0|      198.0|\n",
      "|A12V145X38O584|B00076SCPW|2.3586351595965436|            597.0|     1039.0|\n",
      "|A12XYDOWQA4H5B|B001GCUO16| 2.726490834468174|            604.0|       21.0|\n",
      "|A12ZUXE0ASY5UE|B00J5LXT44| 3.992013558745384|            108.0|     5954.0|\n",
      "+--------------+----------+------------------+-----------------+-----------+\n",
      "only showing top 20 rows\n",
      "\n",
      "+--------------+----------+------------------+-----------------+-----------+\n",
      "|    reviewerID|      asin|             score|indexedReviewerID|indexedAsin|\n",
      "+--------------+----------+------------------+-----------------+-----------+\n",
      "|A138DVM0KPI8MN|B01FRMOXIK| 4.175413101911545|            628.0|     6552.0|\n",
      "|A13C00GQTHXQOI|6304794355|3.6060674116015434|            633.0|     2372.0|\n",
      "|A1429V2MO57X86|630211702X| 2.726490834468174|            673.0|      794.0|\n",
      "|A145EH9ZLO49U1|B00GQQ77IU|2.5344304306832575|            678.0|       91.0|\n",
      "|A14DGNTFRQ1IP6|B008YV11JQ|1.9764908344681742|            691.0|      605.0|\n",
      "|A153V3HJCXG911|B00UZJO7UA|2.6803146600723267|            113.0|      693.0|\n",
      "|A15E5P793CPZLC|6304263465|2.9525569716055746|            745.0|     2275.0|\n",
      "|A15IJ6G4SEH5PZ|B000FSME56| 2.767586225918221|            756.0|     3651.0|\n",
      "|A17UJLZKSP01V7|B005LAII3U|2.2379467328866385|            900.0|      181.0|\n",
      "|A18NTI5V03ZD6Y|B000V4UH08| 2.476490834468174|            949.0|     1121.0|\n",
      "|A19MWJYMM5WPWS|6304016859|2.4453437328338623|           1014.0|     2223.0|\n",
      "|A19N7GMN47LK1A|B000068TSU| 2.726490834468174|           1015.0|     2937.0|\n",
      "|A1A45IW850QZBT|B00AVWLX2G|4.3769677728414536|           1041.0|     5500.0|\n",
      "|A1AH1HUG9N7G9U|B0016GO9CC|  4.32295635342598|           1063.0|     1179.0|\n",
      "|A1BJOEQSRX2IBM|6305428255| 2.226490834468174|           1137.0|      876.0|\n",
      "|A1BTQX06G1BAYG|B00XVJ3MW0|3.9407648146152496|           1157.0|     1592.0|\n",
      "|A1FB1CAOWHV8X0|B00DC5K2J4| 2.514446366046294|           1358.0|     5676.0|\n",
      "|A1FHL2SZQWSBNU|B014HDTT84| 2.093074215013546|           1378.0|       17.0|\n",
      "|A1FJ4WAOIDPEF4|B0016MJ6GA| 2.226490834468174|           1382.0|     1182.0|\n",
      "|A1HCQ0A4QK71J3|B00006CXSS|2.7466381481391533|           1490.0|        6.0|\n",
      "+--------------+----------+------------------+-----------------+-----------+\n",
      "only showing top 20 rows\n",
      "\n"
     ]
    }
   ],
   "source": [
    "# Split data into 80% train, 20% test\n",
    "training_data, test_data = indexedDF.randomSplit([0.8, 0.2], seed = 0)\n",
    "training_data.show()\n",
    "test_data.show()"
   ]
  },
  {
   "cell_type": "code",
   "execution_count": 56,
   "id": "e2500246",
   "metadata": {},
   "outputs": [],
   "source": [
    "from pyspark.ml.recommendation import ALS\n",
    "\n",
    "als = ALS(maxIter=5,\n",
    "          regParam=0.09,\n",
    "          rank=25,\n",
    "          userCol=\"indexedReviewerID\",\n",
    "          itemCol=\"indexedAsin\",\n",
    "          ratingCol=\"score\",\n",
    "          coldStartStrategy=\"drop\",\n",
    "          nonnegative=True)\n",
    "\n",
    "model=als.fit(training_data)"
   ]
  },
  {
   "cell_type": "code",
   "execution_count": 57,
   "id": "4494acf5",
   "metadata": {},
   "outputs": [
    {
     "name": "stdout",
     "output_type": "stream",
     "text": [
      "RMSE=1.9578076895240408\n",
      "+--------------+----------+------------------+-----------------+-----------+----------+\n",
      "|    reviewerID|      asin|             score|indexedReviewerID|indexedAsin|prediction|\n",
      "+--------------+----------+------------------+-----------------+-----------+----------+\n",
      "|A3I8K4KC5GO2VT|B0000VJG72|4.1794463992118835|            312.0|      463.0| 1.2681159|\n",
      "|A1TJIJKKN15KR9|B00006WUWP| 2.226490834468174|            169.0|      251.0|0.79596263|\n",
      "|A11QW1O6PAYKQK|B00008MOUP| 2.990993095165383|            105.0|      458.0| 1.1909063|\n",
      "|A2SGN1D92VK1X9|B005QI4U0W| 2.693380519747734|            247.0|       53.0| 2.2085085|\n",
      "|A3KXJSZBDNLTXE|B00003CXS4|2.8184740021824837|             82.0|      918.0| 0.5895175|\n",
      "|A1TA5QYECZP1L1|B00DJYJWVW| 2.726490834468174|             55.0|      322.0| 1.1970046|\n",
      "|A2JSZ6OR4MRXD9|6303398375|2.9873037934303284|             64.0|      830.0|0.93176776|\n",
      "|A3HKU4ZHFOY4NC|B00M4LP84Q| 2.226490834468174|            308.0|       26.0| 0.8046349|\n",
      "| A3SS6VRWCTB7V|B00M4LP84Q|2.1929457521415223|            344.0|       26.0| 0.6961098|\n",
      "|A2RKI7RPP5CJMG|B00005M20M| 2.726490834468174|            244.0|      973.0|0.79265887|\n",
      "|A31I3HXMD5H1EL|6305416222| 2.726490834468174|             74.0|      417.0|  1.268347|\n",
      "|A2XC5ERDTZ93QE|B0063FQREO| 4.105760455131531|            263.0|       22.0| 0.9978708|\n",
      "|A27R9Z5RZ4YSC4|6300213900| 3.310321867465973|             25.0|      748.0|0.85992014|\n",
      "|A2EDZH51XHFA9B|B0002Z16HY| 2.726490834468174|             29.0|      473.0| 1.2078006|\n",
      "|A26UHHSKOOV8LT|B00MEEVVYO| 2.493544527393232|            199.0|      674.0|0.48868072|\n",
      "|A20EEWWSFMZ1PN|B00005JLWN| 2.476490834468174|              3.0|      442.0| 1.1669186|\n",
      "|A3TYC8T6W81DDB|B004A8ZWUQ| 2.226490834468174|             87.0|      572.0| 0.6127685|\n",
      "|A1NZ8XNL85H96C|B000WGWQG8| 2.235623277683237|            156.0|        3.0|0.47844458|\n",
      "| AVAOR9U1HIIJG|B002AT4KA0|3.2930941049304505|            414.0|      283.0| 1.1487459|\n",
      "|A2EDZH51XHFA9B|B001O4AHJK|1.7264908344681742|             29.0|     1245.0|  0.880854|\n",
      "+--------------+----------+------------------+-----------------+-----------+----------+\n",
      "only showing top 20 rows\n",
      "\n"
     ]
    }
   ],
   "source": [
    "predictions=model.transform(test_data)\n",
    "\n",
    "evaluator=RegressionEvaluator(metricName=\"rmse\",labelCol=\"score\",predictionCol=\"prediction\")\n",
    "\n",
    "rmse=evaluator.evaluate(predictions)\n",
    "\n",
    "print(\"RMSE=\"+str(rmse))\n",
    "\n",
    "predictions.show()"
   ]
  },
  {
   "cell_type": "code",
   "execution_count": 1,
   "id": "dae8a4d0",
   "metadata": {},
   "outputs": [
    {
     "ename": "NameError",
     "evalue": "name 'model' is not defined",
     "output_type": "error",
     "traceback": [
      "\u001b[0;31m---------------------------------------------------------------------------\u001b[0m",
      "\u001b[0;31mNameError\u001b[0m                                 Traceback (most recent call last)",
      "\u001b[0;32m/var/folders/bh/xy5p8tp95z95ctfdrw28y1kr0000gn/T/ipykernel_20999/265815029.py\u001b[0m in \u001b[0;36m<module>\u001b[0;34m\u001b[0m\n\u001b[0;32m----> 1\u001b[0;31m \u001b[0muser_recs\u001b[0m\u001b[0;34m=\u001b[0m\u001b[0mmodel\u001b[0m\u001b[0;34m.\u001b[0m\u001b[0mrecommendForAllUsers\u001b[0m\u001b[0;34m(\u001b[0m\u001b[0;36m20\u001b[0m\u001b[0;34m)\u001b[0m\u001b[0;34m.\u001b[0m\u001b[0mshow\u001b[0m\u001b[0;34m(\u001b[0m\u001b[0;36m100\u001b[0m\u001b[0;34m)\u001b[0m\u001b[0;34m\u001b[0m\u001b[0;34m\u001b[0m\u001b[0m\n\u001b[0m",
      "\u001b[0;31mNameError\u001b[0m: name 'model' is not defined"
     ]
    }
   ],
   "source": [
    "user_recs=model.recommendForAllUsers(20).show(100)"
   ]
  },
  {
   "cell_type": "code",
   "execution_count": 61,
   "id": "87699dfe",
   "metadata": {},
   "outputs": [
    {
     "name": "stdout",
     "output_type": "stream",
     "text": [
      "                reviewerID                                    recommendations\n",
      "0     A0598193QWF1LXNNCV3O  [(B00GWXHYPI, 2.3959057331085205), (B005LAII0I...\n",
      "1           A101541I8ZCSRU  [(B00000ILEA, 3.0313639640808105), (B01FL8ZD2A...\n",
      "2           A10175AMUHOQC4  [(6305828075, 2.794443130493164), (B00006II6D,...\n",
      "3           A101HW3MEASA23  [(6303049079, 2.8532235622406006), (B000NOIVT0...\n",
      "4           A101IGU6UDKW3X  [(B004LWZWFQ, 2.762181282043457), (B0012Z367Q,...\n",
      "...                    ...                                                ...\n",
      "7516         AZXHK8IO25FL6  [(B0007KIFIC, 2.8829874992370605), (B00JBGF0SG...\n",
      "7517         AZXJ8VJDRCWD2  [(6303039456, 3.2729949951171875), (B012DMPWUA...\n",
      "7518         AZY1OM4M0YXXI  [(B01CEC0ECK, 2.4798243045806885), (6301170113...\n",
      "7519         AZY6XD8GHT1F7  [(B0000YTP02, 2.3550803661346436), (B00GJNQ2NG...\n",
      "7520         AZZ85I9JIWHVW  [(B00003CXKT, 2.413266181945801), (B002EWD0D6,...\n",
      "\n",
      "[7521 rows x 2 columns]\n"
     ]
    },
    {
     "name": "stderr",
     "output_type": "stream",
     "text": [
      "C:\\Users\\hinlu\\AppData\\Local\\Temp\\ipykernel_30320\\4252928346.py:26: SettingWithCopyWarning: \n",
      "A value is trying to be set on a copy of a slice from a DataFrame.\n",
      "Try using .loc[row_indexer,col_indexer] = value instead\n",
      "\n",
      "See the caveats in the documentation: https://pandas.pydata.org/pandas-docs/stable/user_guide/indexing.html#returning-a-view-versus-a-copy\n",
      "  new['recommendations'] = list(zip(new.asin, new.score))\n"
     ]
    }
   ],
   "source": [
    "recs=model.recommendForAllUsers(10).toPandas()"
   ]
  },
  {
   "cell_type": "code",
   "execution_count": null,
   "id": "5cb71347",
   "metadata": {},
   "outputs": [],
   "source": [
    "def display_All_recommendations(recs, indexedDF):\n",
    "    # Extract recommendations into separate columns\n",
    "    nrecs = recs.recommendations.apply(pd.Series) \\\n",
    "                .merge(recs, right_index=True, left_index=True) \\\n",
    "                .drop([\"recommendations\"], axis=1) \\\n",
    "                .melt(id_vars=['indexedReviewerID'], value_name=\"recommendation\") \\\n",
    "                .drop(\"variable\", axis=1) \\\n",
    "                .dropna()\n",
    "    \n",
    "    # Sort by indexedReviewerID\n",
    "    nrecs = nrecs.sort_values('indexedReviewerID')\n",
    "    \n",
    "    # Map indexedReviewerID to reviewerID and indexedAsin to asin\n",
    "    md = indexedDF.select(indexedDF['reviewerID'], indexedDF['indexedReviewerID'], indexedDF['asin'], indexedDF['indexedAsin'])\n",
    "    md = md.toPandas()\n",
    "    dict1 = dict(zip(md['indexedReviewerID'], md['reviewerID']))\n",
    "    dict2 = dict(zip(md['indexedAsin'], md['asin']))\n",
    "    nrecs['reviewerID'] = nrecs['UserID_index'].map(dict1)\n",
    "    nrecs['asin'] = nrecs['indexedAsin'].map(dict2)\n",
    "    \n",
    "    # Reset index and select only relevant columns\n",
    "    nrecs.reset_index(drop=True, inplace=True)\n",
    "    new = nrecs[['reviewerID', 'asin', 'score']]\n",
    "    \n",
    "    # Group recommendations by reviewerID\n",
    "    new['recommendations'] = list(zip(new.asin, new.score))\n",
    "    res = new[['reviewerID', 'recommendations']]\n",
    "    res_new = res['recommendations'].groupby([res.reviewerID]).apply(list).reset_index()\n",
    "    \n",
    "    return res_new\n",
    "\n",
    "# Example usage:\n",
    "recs = ...  # Your recommendation DataFrame\n",
    "indexedDF = ...  # Your indexed DataFrame\n",
    "output = display_recommendations(recs, indexedDF)\n",
    "print(output)"
   ]
  },
  {
   "cell_type": "code",
   "execution_count": null,
   "id": "9d4379fe",
   "metadata": {},
   "outputs": [],
   "source": [
    "def display_recommendations_reviewerID(recs, indexedDF, reviewerID):\n",
    "    # Extract recommendations into separate columns\n",
    "    nrecs = recs.recommendations.apply(pd.Series) \\\n",
    "                .merge(recs, right_index=True, left_index=True) \\\n",
    "                .drop([\"recommendations\"], axis=1) \\\n",
    "                .melt(id_vars=['indexedReviewerID'], value_name=\"recommendation\") \\\n",
    "                .drop(\"variable\", axis=1) \\\n",
    "                .dropna()\n",
    "    \n",
    "    # Sort by indexedReviewerID\n",
    "    nrecs = nrecs.sort_values('indexedReviewerID')\n",
    "    \n",
    "    # Map indexedReviewerID to reviewerID and indexedAsin to asin\n",
    "    md = indexedDF.select(indexedDF['reviewerID'], indexedDF['indexedReviewerID'], indexedDF['asin'], indexedDF['indexedAsin'])\n",
    "    md = md.toPandas()\n",
    "    dict1 = dict(zip(md['indexedReviewerID'], md['reviewerID']))\n",
    "    dict2 = dict(zip(md['indexedAsin'], md['asin']))\n",
    "    nrecs['reviewerID'] = nrecs['UserID_index'].map(dict1)\n",
    "    nrecs['asin'] = nrecs['indexedAsin'].map(dict2)\n",
    "    \n",
    "    # Filter recommendations for the given reviewerID\n",
    "    nrecs = nrecs[nrecs['reviewerID'] == reviewerID]\n",
    "    \n",
    "    # Reset index and select only relevant columns\n",
    "    nrecs.reset_index(drop=True, inplace=True)\n",
    "    new = nrecs[['reviewerID', 'asin', 'score']]\n",
    "    \n",
    "    # Group recommendations by reviewerID\n",
    "    new['recommendations'] = list(zip(new.asin, new.score))\n",
    "    res = new[['reviewerID', 'recommendations']]\n",
    "    res_new = res['recommendations'].groupby([res.reviewerID]).apply(list).reset_index()\n",
    "    \n",
    "    return res_new"
   ]
  },
  {
   "cell_type": "markdown",
   "id": "1a728e05",
   "metadata": {},
   "source": [
    "Example for display_All_recommendations"
   ]
  },
  {
   "cell_type": "code",
   "execution_count": null,
   "id": "c80e5979",
   "metadata": {},
   "outputs": [],
   "source": [
    "display_All_recommendations(recs, indexedDF)"
   ]
  },
  {
   "cell_type": "markdown",
   "id": "d539fdf0",
   "metadata": {},
   "source": [
    "Example for display_recommendations_reviewerID"
   ]
  },
  {
   "cell_type": "code",
   "execution_count": null,
   "id": "2b1f7903",
   "metadata": {},
   "outputs": [],
   "source": [
    "display_All_recommendations(recs, indexedDF, \"A138DVM0KPI8MN\")"
   ]
  }
 ],
 "metadata": {
  "kernelspec": {
   "display_name": "Python 3 (ipykernel)",
   "language": "python",
   "name": "python3"
  },
  "language_info": {
   "codemirror_mode": {
    "name": "ipython",
    "version": 3
   },
   "file_extension": ".py",
   "mimetype": "text/x-python",
   "name": "python",
   "nbconvert_exporter": "python",
   "pygments_lexer": "ipython3",
   "version": "3.9.13"
  }
 },
 "nbformat": 4,
 "nbformat_minor": 5
}
